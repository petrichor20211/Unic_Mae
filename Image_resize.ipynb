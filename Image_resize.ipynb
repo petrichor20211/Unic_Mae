{
 "cells": [
  {
   "cell_type": "code",
   "execution_count": 6,
   "metadata": {
    "collapsed": true,
    "ExecuteTime": {
     "end_time": "2023-11-10T05:32:58.417609400Z",
     "start_time": "2023-11-10T05:32:58.234738300Z"
    }
   },
   "outputs": [
    {
     "name": "stderr",
     "output_type": "stream",
     "text": [
      "C:\\Users\\lenovo\\AppData\\Local\\Temp\\ipykernel_17024\\2951830122.py:5: DeprecationWarning: ANTIALIAS is deprecated and will be removed in Pillow 10 (2023-07-01). Use LANCZOS or Resampling.LANCZOS instead.\n",
      "  image = image.resize((224, 224), Image.ANTIALIAS)\n"
     ]
    }
   ],
   "source": [
    "from PIL import Image\n",
    "\n",
    "def compress_image(input_path, output_path):\n",
    "    image = Image.open(input_path)\n",
    "    image = image.resize((224, 224), Image.ANTIALIAS)\n",
    "    image.save(output_path, optimize=True, quality=95)\n",
    "\n",
    "input_path = r\"D:\\Torch\\mae-main\\data\\reconstruction.png\"\n",
    "output_path = r\"D:\\Torch\\mae-main\\data\\reconstruction_224_224.png\"\n",
    "compress_image(input_path, output_path)"
   ]
  }
 ],
 "metadata": {
  "kernelspec": {
   "display_name": "Python 3",
   "language": "python",
   "name": "python3"
  },
  "language_info": {
   "codemirror_mode": {
    "name": "ipython",
    "version": 2
   },
   "file_extension": ".py",
   "mimetype": "text/x-python",
   "name": "python",
   "nbconvert_exporter": "python",
   "pygments_lexer": "ipython2",
   "version": "2.7.6"
  }
 },
 "nbformat": 4,
 "nbformat_minor": 0
}
