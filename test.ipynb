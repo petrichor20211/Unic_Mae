{
 "cells": [
  {
   "cell_type": "code",
   "execution_count": 26,
   "outputs": [],
   "source": [
    "import cv2"
   ],
   "metadata": {
    "collapsed": false,
    "ExecuteTime": {
     "end_time": "2023-11-14T04:47:06.383297100Z",
     "start_time": "2023-11-14T04:47:06.372308600Z"
    }
   }
  },
  {
   "cell_type": "markdown",
   "source": [
    "small margin"
   ],
   "metadata": {
    "collapsed": false
   }
  },
  {
   "cell_type": "code",
   "execution_count": 27,
   "metadata": {
    "collapsed": true,
    "ExecuteTime": {
     "end_time": "2023-11-14T04:47:08.705480600Z",
     "start_time": "2023-11-14T04:47:08.308543200Z"
    }
   },
   "outputs": [],
   "source": [
    "image_bgr = cv2.imread('D:\\Torch\\mae-main\\data\\DSCF0469.JPG')\n",
    "image_bgr_8u = cv2.normalize(image_bgr, None, 0, 255, cv2.NORM_MINMAX, cv2.CV_8U)\n",
    "img_gray = cv2.cvtColor(image_bgr_8u, cv2.COLOR_BGR2GRAY)\n",
    "ret, img_gray = cv2.threshold(img_gray, 50, 255, cv2.THRESH_BINARY)\n",
    "img_resize = cv2.resize(img_gray, (224, 224), interpolation=cv2.INTER_LINEAR)\n",
    "img_canny = cv2.Canny(img_resize, 50, 100)"
   ]
  },
  {
   "cell_type": "code",
   "execution_count": 28,
   "outputs": [],
   "source": [
    "window_name = 'BGR 8U Image'\n",
    "cv2.namedWindow(window_name, cv2.WINDOW_NORMAL)  # 设置窗口为可调整大小\n",
    "cv2.resizeWindow(window_name, 600, 400)  # 设置窗口大小为 600x400\n",
    "cv2.imshow(window_name, image_bgr_8u)\n",
    "cv2.waitKey(0)  # 等待按键输入\n",
    "cv2.destroyAllWindows()"
   ],
   "metadata": {
    "collapsed": false,
    "ExecuteTime": {
     "end_time": "2023-11-14T04:47:13.873855800Z",
     "start_time": "2023-11-14T04:47:10.491956900Z"
    }
   }
  },
  {
   "cell_type": "code",
   "execution_count": 29,
   "outputs": [],
   "source": [
    "window_name = 'gray Image'\n",
    "cv2.namedWindow(window_name, cv2.WINDOW_NORMAL)  # 设置窗口为可调整大小\n",
    "cv2.resizeWindow(window_name, 600, 400)  # 设置窗口大小为 600x400\n",
    "cv2.imshow(window_name, img_gray)\n",
    "cv2.waitKey(0)  # 等待按键输入\n",
    "cv2.destroyAllWindows()"
   ],
   "metadata": {
    "collapsed": false,
    "ExecuteTime": {
     "end_time": "2023-11-14T04:47:24.385478300Z",
     "start_time": "2023-11-14T04:47:21.877760Z"
    }
   }
  },
  {
   "cell_type": "code",
   "execution_count": 30,
   "outputs": [],
   "source": [
    "window_name = 'canny Image'\n",
    "cv2.namedWindow(window_name, cv2.WINDOW_NORMAL)  # 设置窗口为可调整大小\n",
    "cv2.resizeWindow(window_name, 600, 400)  # 设置窗口大小为 600x400\n",
    "cv2.imshow(window_name, img_canny)\n",
    "cv2.waitKey(0)  # 等待按键输入\n",
    "cv2.destroyAllWindows()"
   ],
   "metadata": {
    "collapsed": false,
    "ExecuteTime": {
     "end_time": "2023-11-14T04:47:28.363825700Z",
     "start_time": "2023-11-14T04:47:26.722527700Z"
    }
   }
  },
  {
   "cell_type": "markdown",
   "source": [
    "large margin"
   ],
   "metadata": {
    "collapsed": false
   }
  },
  {
   "cell_type": "code",
   "execution_count": null,
   "outputs": [],
   "source": [
    "image_l = cv2.imread('D:\\Torch\\mae-main\\data\\image_RGB.png')\n",
    "image_l = cv2.convertScaleAbs(image_l)\n",
    "img_gray_l = cv2.cvtColor(image_l, cv2.COLOR_BGR2GRAY)\n",
    "img_resize_l = cv2.resize(img_gray_l, (224, 224), interpolation=cv2.INTER_LINEAR)\n",
    "img_canny_l = cv2.Canny(img_resize_l, 50, 100)"
   ],
   "metadata": {
    "collapsed": false
   }
  },
  {
   "cell_type": "code",
   "execution_count": null,
   "outputs": [],
   "source": [
    "window_name = '1'\n",
    "cv2.namedWindow(window_name, cv2.WINDOW_NORMAL)  # 设置窗口为可调整大小\n",
    "cv2.resizeWindow(window_name, 600, 400)  # 设置窗口大小为 600x400\n",
    "cv2.imshow(window_name, img_gray_l)\n",
    "cv2.waitKey(0)  # 等待按键输入\n",
    "cv2.destroyAllWindows()"
   ],
   "metadata": {
    "collapsed": false
   }
  },
  {
   "cell_type": "code",
   "execution_count": null,
   "outputs": [],
   "source": [
    "window_name = '2'\n",
    "cv2.namedWindow(window_name, cv2.WINDOW_NORMAL)  # 设置窗口为可调整大小\n",
    "cv2.resizeWindow(window_name, 600, 400)  # 设置窗口大小为 600x400\n",
    "cv2.imshow(window_name, img_canny_l )\n",
    "cv2.waitKey(0)  # 等待按键输入\n",
    "cv2.destroyAllWindows()"
   ],
   "metadata": {
    "collapsed": false
   }
  }
 ],
 "metadata": {
  "kernelspec": {
   "display_name": "Python 3",
   "language": "python",
   "name": "python3"
  },
  "language_info": {
   "codemirror_mode": {
    "name": "ipython",
    "version": 2
   },
   "file_extension": ".py",
   "mimetype": "text/x-python",
   "name": "python",
   "nbconvert_exporter": "python",
   "pygments_lexer": "ipython2",
   "version": "2.7.6"
  }
 },
 "nbformat": 4,
 "nbformat_minor": 0
}
